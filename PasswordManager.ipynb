{
  "nbformat": 4,
  "nbformat_minor": 0,
  "metadata": {
    "colab": {
      "name": "PasswordManager.ipynb",
      "provenance": [],
      "collapsed_sections": [],
      "authorship_tag": "ABX9TyN9x4ECLB4bLG/bJS1x9CUB",
      "include_colab_link": true
    },
    "kernelspec": {
      "name": "python3",
      "display_name": "Python 3"
    }
  },
  "cells": [
    {
      "cell_type": "markdown",
      "metadata": {
        "id": "view-in-github",
        "colab_type": "text"
      },
      "source": [
        "<a href=\"https://colab.research.google.com/github/BlankDevs/PasswordManager/blob/main/PasswordManager.ipynb\" target=\"_parent\"><img src=\"https://colab.research.google.com/assets/colab-badge.svg\" alt=\"Open In Colab\"/></a>"
      ]
    },
    {
      "cell_type": "code",
      "metadata": {
        "id": "RraYjinBT05Z"
      },
      "source": [
        "# import regex library\r\n",
        "import re"
      ],
      "execution_count": null,
      "outputs": []
    },
    {
      "cell_type": "code",
      "metadata": {
        "id": "nsiSxnqbT3p7"
      },
      "source": [
        "class BasePasswordManager:\r\n",
        "\r\n",
        "    # list that holds all of the user's past passwords.\r\n",
        "    # The last item of the list is the user's current password.\r\n",
        "    old_passwords = ['we5!@df', '12345', 'myMom@12', ' 434 fg @#']\r\n",
        "\r\n",
        "\r\n",
        "    def get_password(): \r\n",
        "        ''' returns the current password as a string. '''\r\n",
        "        return old_passwords[-1]\r\n",
        " \r\n",
        "\r\n",
        "    def is_correct(str):\r\n",
        "        ''' receives a string and returns a boolean True or False \r\n",
        "        depending on whether the string is equal to the current password or not. '''\r\n",
        "        if str == old_passwords[-1]:\r\n",
        "            return True\r\n",
        "        else:\r\n",
        "            return False\r\n",
        "\r\n",
        "\r\n",
        "\r\n",
        "class PasswordManager(BasePasswordManager):\r\n",
        "\r\n",
        "    ''' This class inherits from BasePasswordManager. '''\r\n",
        "\r\n",
        "\r\n",
        "    def set_password(str_pass):\r\n",
        "        ''' sets the user's password. '''\r\n",
        "\r\n",
        "            #  Password change is successful only if:\r\n",
        "            #         - Security level of the new password is greater.\r\n",
        "            #         - Length of new password is minimum 6\r\n",
        "\r\n",
        "            #  However, if the old password already has the highest security level,\r\n",
        "            #  new password must be of the highest security level for a successful password change.\r\n",
        "        \r\n",
        "        \r\n",
        "        if (len(str_pass) >= 6):\r\n",
        "            # Security level of the new password is greater.    \r\n",
        "            if PasswordManager.get_level(str_pass) > PasswordManager.get_level(PasswordManager.old_passwords[-1]):\r\n",
        "                PasswordManager.old_passwords.append(str_pass)\r\n",
        "                return 'Password succesfully saved'\r\n",
        "\r\n",
        "            # Old password already has the highest security level.\r\n",
        "            elif PasswordManager.get_level(str_pass) < PasswordManager.get_level(PasswordManager.old_passwords[-1]):\r\n",
        "                return 'New password security level lower than current'\r\n",
        "\r\n",
        "            # Old and new passwprd are the same level\r\n",
        "            else:\r\n",
        "                PasswordManager.old_passwords.append(str_pass)\r\n",
        "                return 'Password succesfully saved'\r\n",
        "        \r\n",
        "        else:\r\n",
        "            return 'Password length must be minimum of 6 characters'\r\n",
        "            \r\n",
        " \r\n",
        "\r\n",
        "    def get_level(my_str):\r\n",
        "        ''' returns the security level of the current password. '''\r\n",
        "        # Security levels:\r\n",
        "\r\n",
        "        # level 0 - password consists of alphabets or numbers only.\r\n",
        "        # level 1 - Alphanumeric passwords.\r\n",
        "        # level 2 - Alphanumeric passwords with special characters.\r\n",
        "        \r\n",
        "        # Check if string was passed\r\n",
        "        if isinstance(my_str, str): \r\n",
        "        \r\n",
        "            if my_str.isnumeric():\r\n",
        "                # 'numeric only'\r\n",
        "                return 0\r\n",
        "            \r\n",
        "            elif my_str.isalpha():\r\n",
        "                # 'alpha only' \r\n",
        "                return 0\r\n",
        "            \r\n",
        "            elif re.match('^[a-zA-Z0-9]+$', my_str):\r\n",
        "                # 'aplha numeric'\r\n",
        "                return 1\r\n",
        "\r\n",
        "            else:\r\n",
        "                # 'alpha numeric special'\r\n",
        "                return 2\r\n",
        "\r\n",
        "        else:\r\n",
        "            return 'Passed password is not a string'"
      ],
      "execution_count": null,
      "outputs": []
    }
  ]
}